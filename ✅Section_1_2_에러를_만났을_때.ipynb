{
  "nbformat": 4,
  "nbformat_minor": 0,
  "metadata": {
    "colab": {
      "provenance": [],
      "include_colab_link": true
    },
    "kernelspec": {
      "name": "python3",
      "display_name": "Python 3"
    },
    "language_info": {
      "name": "python"
    }
  },
  "cells": [
    {
      "cell_type": "markdown",
      "metadata": {
        "id": "view-in-github",
        "colab_type": "text"
      },
      "source": [
        "<a href=\"https://colab.research.google.com/github/marchnineth/kokoa-clone-2021/blob/master/%E2%9C%85Section_1_2_%EC%97%90%EB%9F%AC%EB%A5%BC_%EB%A7%8C%EB%82%AC%EC%9D%84_%EB%95%8C.ipynb\" target=\"_parent\"><img src=\"https://colab.research.google.com/assets/colab-badge.svg\" alt=\"Open In Colab\"/></a>"
      ]
    },
    {
      "cell_type": "markdown",
      "metadata": {
        "id": "wJucdcp_mcFF"
      },
      "source": [
        "# 에러를 만났을 때"
      ]
    },
    {
      "cell_type": "code",
      "metadata": {
        "colab": {
          "base_uri": "https://localhost:8080/"
        },
        "id": "sbdKRVMVU4D-",
        "outputId": "595773b8-1c85-4849-b804-3e20f2583caf"
      },
      "source": [
        "print('hello python!')"
      ],
      "execution_count": null,
      "outputs": [
        {
          "output_type": "stream",
          "name": "stdout",
          "text": [
            "hello python!\n"
          ]
        }
      ]
    },
    {
      "cell_type": "code",
      "metadata": {
        "colab": {
          "base_uri": "https://localhost:8080/",
          "height": 130
        },
        "id": "_QBzXQJfZpda",
        "outputId": "8c0970d1-4e3a-4e01-a976-ae5faab7ba7a"
      },
      "source": [
        "print('hello python!)"
      ],
      "execution_count": null,
      "outputs": [
        {
          "output_type": "error",
          "ename": "SyntaxError",
          "evalue": "ignored",
          "traceback": [
            "\u001b[0;36m  File \u001b[0;32m\"<ipython-input-2-0bbc8c8e1efd>\"\u001b[0;36m, line \u001b[0;32m1\u001b[0m\n\u001b[0;31m    print('hello python!)\u001b[0m\n\u001b[0m                         ^\u001b[0m\n\u001b[0;31mSyntaxError\u001b[0m\u001b[0;31m:\u001b[0m EOL while scanning string literal\n"
          ]
        }
      ]
    },
    {
      "cell_type": "markdown",
      "metadata": {
        "id": "LmEssBbE1LLL"
      },
      "source": [
        "# 에러의 종류"
      ]
    },
    {
      "cell_type": "markdown",
      "metadata": {
        "id": "j3d0co0u1fe_"
      },
      "source": [
        "1. 문법 에러: 파이썬 문법에 맞지 않는 에러\n",
        "2. 실행 에러: 문법적으로는 옳지만 실행시에 나는 에러, 아마도 잘못된 입력 때문입니다\n",
        "3. 논리 에러: 문제없이 코드가 실행되지만 원치않는 결과가 나옵니다. 또는 문제 없이 코드가 실행되고 원하는 결과도 나오지만, 특정 상황에서는 원하지 않는 결과가 나옵니다."
      ]
    },
    {
      "cell_type": "markdown",
      "metadata": {
        "id": "RhFAuhGR2qOl"
      },
      "source": [
        "<div>\n",
        "<img src=\"https://jjalbot.com/media/2019/01/cl-H9wkxrn/RLRlP6kQU.png\" width=\"300\"/>\n",
        "</div>"
      ]
    },
    {
      "cell_type": "markdown",
      "metadata": {
        "id": "5VJ7DoZm3GHI"
      },
      "source": [
        "# 에러 메시지 읽기"
      ]
    },
    {
      "cell_type": "markdown",
      "metadata": {
        "id": "vbJp7MzlLDyj"
      },
      "source": [
        "### 에러 메시지 읽기"
      ]
    },
    {
      "cell_type": "code",
      "metadata": {
        "colab": {
          "base_uri": "https://localhost:8080/",
          "height": 164
        },
        "id": "zXs6hdsRYvhp",
        "outputId": "b9598674-6094-4cbd-d7c3-b7b2fb3ab098"
      },
      "source": [
        "print(q)"
      ],
      "execution_count": null,
      "outputs": [
        {
          "output_type": "error",
          "ename": "NameError",
          "evalue": "ignored",
          "traceback": [
            "\u001b[0;31m---------------------------------------------------------------------------\u001b[0m",
            "\u001b[0;31mNameError\u001b[0m                                 Traceback (most recent call last)",
            "\u001b[0;32m<ipython-input-3-996617e96a38>\u001b[0m in \u001b[0;36m<module>\u001b[0;34m()\u001b[0m\n\u001b[0;32m----> 1\u001b[0;31m \u001b[0mprint\u001b[0m\u001b[0;34m(\u001b[0m\u001b[0mq\u001b[0m\u001b[0;34m)\u001b[0m\u001b[0;34m\u001b[0m\u001b[0;34m\u001b[0m\u001b[0m\n\u001b[0m",
            "\u001b[0;31mNameError\u001b[0m: name 'q' is not defined"
          ]
        }
      ]
    },
    {
      "cell_type": "code",
      "metadata": {
        "colab": {
          "base_uri": "https://localhost:8080/"
        },
        "id": "jG9bfl2fakdQ",
        "outputId": "61995290-383c-4a8d-d364-d357f6d55583"
      },
      "source": [
        "q = 1\n",
        "print(q)"
      ],
      "execution_count": null,
      "outputs": [
        {
          "output_type": "stream",
          "name": "stdout",
          "text": [
            "1\n"
          ]
        }
      ]
    },
    {
      "cell_type": "markdown",
      "metadata": {
        "id": "F3Yk9hXKLANU"
      },
      "source": [
        "### 다양한 유형의 에러"
      ]
    },
    {
      "cell_type": "code",
      "metadata": {
        "colab": {
          "base_uri": "https://localhost:8080/",
          "height": 164
        },
        "id": "sIpY0CEAVHob",
        "outputId": "831403ca-5c8b-4df8-d7eb-fd559842177b"
      },
      "source": [
        "# TypeError\n",
        "1 + 'python'"
      ],
      "execution_count": null,
      "outputs": [
        {
          "output_type": "error",
          "ename": "TypeError",
          "evalue": "ignored",
          "traceback": [
            "\u001b[0;31m---------------------------------------------------------------------------\u001b[0m",
            "\u001b[0;31mTypeError\u001b[0m                                 Traceback (most recent call last)",
            "\u001b[0;32m<ipython-input-5-ee6638bf3f2e>\u001b[0m in \u001b[0;36m<module>\u001b[0;34m()\u001b[0m\n\u001b[0;32m----> 1\u001b[0;31m \u001b[0;36m1\u001b[0m \u001b[0;34m+\u001b[0m \u001b[0;34m'python'\u001b[0m\u001b[0;34m\u001b[0m\u001b[0;34m\u001b[0m\u001b[0m\n\u001b[0m",
            "\u001b[0;31mTypeError\u001b[0m: unsupported operand type(s) for +: 'int' and 'str'"
          ]
        }
      ]
    },
    {
      "cell_type": "code",
      "metadata": {
        "colab": {
          "base_uri": "https://localhost:8080/",
          "height": 164
        },
        "id": "xzf0yHxtbBVC",
        "outputId": "4f0f42e9-e0fb-4312-ea93-820f06d943c0"
      },
      "source": [
        "# ZeroDivisionError\n",
        "10 / 0"
      ],
      "execution_count": null,
      "outputs": [
        {
          "output_type": "error",
          "ename": "ZeroDivisionError",
          "evalue": "ignored",
          "traceback": [
            "\u001b[0;31m---------------------------------------------------------------------------\u001b[0m",
            "\u001b[0;31mZeroDivisionError\u001b[0m                         Traceback (most recent call last)",
            "\u001b[0;32m<ipython-input-6-cd759d3fcf39>\u001b[0m in \u001b[0;36m<module>\u001b[0;34m()\u001b[0m\n\u001b[0;32m----> 1\u001b[0;31m \u001b[0;36m10\u001b[0m \u001b[0;34m/\u001b[0m \u001b[0;36m0\u001b[0m\u001b[0;34m\u001b[0m\u001b[0;34m\u001b[0m\u001b[0m\n\u001b[0m",
            "\u001b[0;31mZeroDivisionError\u001b[0m: division by zero"
          ]
        }
      ]
    },
    {
      "cell_type": "code",
      "metadata": {
        "colab": {
          "base_uri": "https://localhost:8080/"
        },
        "id": "VZ78UwnYbJcO",
        "outputId": "dd552b0e-8ccf-42b1-fefc-2aec29f9d07c"
      },
      "source": [
        "car_brands = ['volvo', 'kia', 'porsche']\n",
        "car_brands"
      ],
      "execution_count": null,
      "outputs": [
        {
          "output_type": "execute_result",
          "data": {
            "text/plain": [
              "['volvo', 'kia', 'porsche']"
            ]
          },
          "metadata": {},
          "execution_count": 7
        }
      ]
    },
    {
      "cell_type": "code",
      "metadata": {
        "colab": {
          "base_uri": "https://localhost:8080/",
          "height": 164
        },
        "id": "4T6sA5Q0bSHm",
        "outputId": "2fc35495-f34d-4832-a2a7-25ac27d27d7c"
      },
      "source": [
        "# IndexError\n",
        "car_brands[3]"
      ],
      "execution_count": null,
      "outputs": [
        {
          "output_type": "error",
          "ename": "IndexError",
          "evalue": "ignored",
          "traceback": [
            "\u001b[0;31m---------------------------------------------------------------------------\u001b[0m",
            "\u001b[0;31mIndexError\u001b[0m                                Traceback (most recent call last)",
            "\u001b[0;32m<ipython-input-9-674f2fa56215>\u001b[0m in \u001b[0;36m<module>\u001b[0;34m()\u001b[0m\n\u001b[0;32m----> 1\u001b[0;31m \u001b[0mcar_brands\u001b[0m\u001b[0;34m[\u001b[0m\u001b[0;36m3\u001b[0m\u001b[0;34m]\u001b[0m\u001b[0;34m\u001b[0m\u001b[0;34m\u001b[0m\u001b[0m\n\u001b[0m",
            "\u001b[0;31mIndexError\u001b[0m: list index out of range"
          ]
        }
      ]
    },
    {
      "cell_type": "markdown",
      "metadata": {
        "id": "1zma5GvURvIv"
      },
      "source": [
        "# 에러를 만났을 때 검색 잘하기\n",
        "\n",
        "개발자를 위한 정보 검색 팁을 한 번 같이 봅시다\n",
        "  \n",
        "https://boxnwhis.kr/2020/09/27/ir-for-developers.html"
      ]
    }
  ]
}