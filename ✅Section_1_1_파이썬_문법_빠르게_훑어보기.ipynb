{
  "nbformat": 4,
  "nbformat_minor": 0,
  "metadata": {
    "colab": {
      "provenance": [],
      "include_colab_link": true
    },
    "kernelspec": {
      "name": "python3",
      "display_name": "Python 3"
    },
    "language_info": {
      "name": "python"
    }
  },
  "cells": [
    {
      "cell_type": "markdown",
      "metadata": {
        "id": "view-in-github",
        "colab_type": "text"
      },
      "source": [
        "<a href=\"https://colab.research.google.com/github/marchnineth/kokoa-clone-2021/blob/master/%E2%9C%85Section_1_1_%ED%8C%8C%EC%9D%B4%EC%8D%AC_%EB%AC%B8%EB%B2%95_%EB%B9%A0%EB%A5%B4%EA%B2%8C_%ED%9B%91%EC%96%B4%EB%B3%B4%EA%B8%B0.ipynb\" target=\"_parent\"><img src=\"https://colab.research.google.com/assets/colab-badge.svg\" alt=\"Open In Colab\"/></a>"
      ]
    },
    {
      "cell_type": "markdown",
      "metadata": {
        "id": "SKFUidiWQQLh"
      },
      "source": [
        "# 파이썬의 특징\n",
        "\n",
        "본격적으로 파이썬을 공부하기에 앞서 파이썬이 어떤 특징을 가지고 있는지 살펴보려고 합니다.\n",
        "\n",
        "- 파이썬은 직관적이다\n",
        "- 파이썬은 개발 속도가 빠르다\n",
        "- 파이썬은 데이터 분석에 적합하다"
      ]
    },
    {
      "cell_type": "markdown",
      "metadata": {
        "id": "Wrn13VzDbQL1"
      },
      "source": [
        "\n",
        "### 파이썬은 직관적이다\n",
        "\n",
        "파이썬은 문법이 쉽고 간결합니다. 영어 문장과 비슷한 방식으로 읽을 수 있습니다.\n",
        "\n",
        "아래의 예제를 한 번 볼까요?\n",
        "\n",
        "```\n",
        "if 4 in [1, 2, 3, 4]: \n",
        "    print(\"4가 있습니다\")\n",
        "```\n",
        "이 예제는 이렇게 읽을 수 있습니다.\n",
        "\n",
        "```\n",
        "만약 4가 1, 2, 3, 4 중에 있으면 \"4가 있습니다\"를 출력해라\n",
        "```\n",
        "프로그래밍이 처음인 분들도 직관적으로 무엇을 뜻하는지 알아볼 수 있을거에요.\n",
        "\n",
        "에릭 레이먼드(Eric Raymond)라는 프로그래머는 파이썬을 공부한 지 하루 만에 자신이 원하는 프로그램을 작성할 수 있었다고 합니다.\n",
        "\n",
        "프로그래밍이 처음인 우리는 하루만에 배울 수는 없겠지만... 다른 개발 언어보다 쉽고 빠르게 배울 수 있을거에요.\n"
      ]
    },
    {
      "cell_type": "markdown",
      "metadata": {
        "id": "D72OEwchal-8"
      },
      "source": [
        "\n",
        "\n",
        "### 파이썬은 개발 속도가 빠르다\n",
        "```\n",
        "\"Life is too short, You need python.\" (인생은 너무 짧으니 파이썬이 필요해.)\n",
        "```\n",
        "파이썬의 엄청나게 빠른 개발 속도를 두고 유행처럼 퍼진 말입니다. \n"
      ]
    },
    {
      "cell_type": "markdown",
      "metadata": {
        "id": "zmaIWaRmanDu"
      },
      "source": [
        "\n",
        "### 파이썬은 데이터 분석에 적합하다 \n",
        "\n",
        "코드를 작성할 때는 미리 작성되어 있는 파일인 라이브러리를 불러와서 사용할 수 있는데요. \n",
        "\n",
        "파이썬에는 다양한 라이브러리가 있습니다.\n",
        "\n",
        "파이썬을 배우게 되면 단순히 데이터를 추출하고 가공하는 것 뿐만 아니라 시각화, 통계분석, 나아가서는 머신러닝까지 파이썬 안에서 해볼 수 있습니다."
      ]
    },
    {
      "cell_type": "markdown",
      "metadata": {
        "id": "uUVicm3gb19p"
      },
      "source": [
        "# 파이썬 문법 빠르게 훑어보기\n",
        "1. 순서를 셀 때 0부터 시작\n",
        "2. 대소문자 구분\n",
        "3. 들여쓰기 indent\n",
        "4. 라인의 끝이 문장의 끝\n",
        "5. 주석 처리"
      ]
    },
    {
      "cell_type": "markdown",
      "metadata": {
        "id": "_QKczdNiUNs3"
      },
      "source": [
        "### **1. 순서를 셀 때 0부터 시작**"
      ]
    },
    {
      "cell_type": "markdown",
      "metadata": {
        "id": "-UL_3gzOC4GR"
      },
      "source": [
        "<div>\n",
        "<img src=\"https://res.cloudinary.com/practicaldev/image/fetch/s--lxeHA9PR--/c_limit%2Cf_auto%2Cfl_progressive%2Cq_auto%2Cw_880/https://cdn-images-1.medium.com/max/1200/1%2ALnsvy3K5r3no_xSeDVNIsA.png\" width=\"400\"/>\n",
        "</div>"
      ]
    },
    {
      "cell_type": "code",
      "metadata": {
        "colab": {
          "base_uri": "https://localhost:8080/"
        },
        "id": "K5wza8TnJfG8",
        "outputId": "41c5da85-dd04-4710-cc34-a83e9a4e2fce"
      },
      "source": [
        "pokemon = ['피카츄', '파이리', '꼬부기']\n",
        "pokemon"
      ],
      "execution_count": null,
      "outputs": [
        {
          "output_type": "execute_result",
          "data": {
            "text/plain": [
              "['피카츄', '파이리', '꼬부기']"
            ]
          },
          "metadata": {},
          "execution_count": 1
        }
      ]
    },
    {
      "cell_type": "code",
      "metadata": {
        "colab": {
          "base_uri": "https://localhost:8080/",
          "height": 35
        },
        "id": "A8-9O1LnPcrl",
        "outputId": "673b9892-cb10-46f3-ef71-4633430c9491"
      },
      "source": [
        "pokemon[0]"
      ],
      "execution_count": null,
      "outputs": [
        {
          "output_type": "execute_result",
          "data": {
            "application/vnd.google.colaboratory.intrinsic+json": {
              "type": "string"
            },
            "text/plain": [
              "'피카츄'"
            ]
          },
          "metadata": {},
          "execution_count": 4
        }
      ]
    },
    {
      "cell_type": "markdown",
      "metadata": {
        "id": "ZUXT5oF-TQqz"
      },
      "source": [
        "###**2. 대소문자 구분**\n",
        "\n",
        "파이썬에서는 대소문자를 구분합니다.\n",
        "\n",
        "`'a'` 라는 문자와 `'A'` 라는 문자를 파이썬에서는 다른 값으로 인식합니다."
      ]
    },
    {
      "cell_type": "code",
      "metadata": {
        "id": "DjQqFUC5qp3M",
        "colab": {
          "base_uri": "https://localhost:8080/"
        },
        "outputId": "f8f609d9-0746-49a2-dd79-86ee79ef84ee"
      },
      "source": [
        "'a' == 'A'"
      ],
      "execution_count": null,
      "outputs": [
        {
          "output_type": "execute_result",
          "data": {
            "text/plain": [
              "False"
            ]
          },
          "metadata": {},
          "execution_count": 6
        }
      ]
    },
    {
      "cell_type": "markdown",
      "metadata": {
        "id": "Ezdu6jn0UgCX"
      },
      "source": [
        "### **3. 들여쓰기 indent**\n",
        "\n",
        "파이썬의 다른 특징은 들여쓰기가 중요하다는 점입니다.\n",
        "\n",
        "파이썬에서는 들여쓰기를 맞추지 않으면 오류가 발생합니다."
      ]
    },
    {
      "cell_type": "code",
      "metadata": {
        "id": "y9mnEnZ_UR49",
        "colab": {
          "base_uri": "https://localhost:8080/"
        },
        "outputId": "36e7b019-c8e9-4a19-ff5b-7ae20b787835"
      },
      "source": [
        "for i in ['피카츄', '파이리', '꼬부기']:\n",
        "    if i == '피카츄':\n",
        "        name = i\n",
        "        print(f'{name}는 전기 포켓몬입니다.')"
      ],
      "execution_count": null,
      "outputs": [
        {
          "output_type": "stream",
          "name": "stdout",
          "text": [
            "피카츄는 전기 포켓몬입니다.\n"
          ]
        }
      ]
    },
    {
      "cell_type": "code",
      "metadata": {
        "colab": {
          "base_uri": "https://localhost:8080/"
        },
        "id": "1cN3GeFXQaSl",
        "outputId": "97c5b53f-9ae3-464d-e462-67f4d7029824"
      },
      "source": [
        "for i in ['피카츄', '파이리', '꼬부기']:\n",
        "    if i == '피카츄':\n",
        "        name = i\n",
        "    print(f'{name}는 전기 포켓몬입니다.')"
      ],
      "execution_count": null,
      "outputs": [
        {
          "output_type": "stream",
          "name": "stdout",
          "text": [
            "피카츄는 전기 포켓몬입니다.\n",
            "피카츄는 전기 포켓몬입니다.\n",
            "피카츄는 전기 포켓몬입니다.\n"
          ]
        }
      ]
    },
    {
      "cell_type": "markdown",
      "metadata": {
        "id": "S10_nWvEUw-P"
      },
      "source": [
        "### **4. 라인의 끝이 문장의 끝**\n",
        "파이썬에서는 라인의 끝이 문장의 끝으로 인식됩니다.\n",
        "\n",
        "다른 개발언어에서처럼 `;` 세미콜론을 붙여주어도 문장의 끝으로 인식하지만, 아무것도 붙이지 않아도 문장의 끝으로 인식한다는 점이 파이썬의 다른 점입니다. "
      ]
    },
    {
      "cell_type": "code",
      "metadata": {
        "id": "jgZfs3FzVaXb"
      },
      "source": [
        "a = 1 + 2;"
      ],
      "execution_count": null,
      "outputs": []
    },
    {
      "cell_type": "code",
      "metadata": {
        "id": "mqmaLr7qQ3_w"
      },
      "source": [
        "a = 1 + 2"
      ],
      "execution_count": null,
      "outputs": []
    },
    {
      "cell_type": "markdown",
      "metadata": {
        "id": "F6HHmoQGXxUM"
      },
      "source": [
        "### **5. 주석**\n",
        "\n",
        "코드 작성 중 메모를 하고 싶을 때 주석을 사용합니다. `#` 기호를 사용해 주석을 쓸 수 있습니다."
      ]
    },
    {
      "cell_type": "code",
      "metadata": {
        "id": "tTXRxQB0YLeH"
      },
      "source": [
        "# 1 + 2의 결과를 a라는 변수에 넣는다\n",
        "a = 1 + 2"
      ],
      "execution_count": null,
      "outputs": []
    },
    {
      "cell_type": "markdown",
      "metadata": {
        "id": "6SQ55E6AUJug"
      },
      "source": [
        "참고: 파이썬 스타일 가이드 https://www.python.org/dev/peps/pep-0008/"
      ]
    }
  ]
}